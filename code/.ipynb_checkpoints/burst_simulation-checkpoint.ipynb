{
 "cells": [
  {
   "cell_type": "markdown",
   "metadata": {},
   "source": [
    "# Burst mode simulation"
   ]
  },
  {
   "cell_type": "code",
   "execution_count": 1,
   "metadata": {
    "collapsed": true
   },
   "outputs": [],
   "source": [
    "import numpy as np\n",
    "import matplotlib.pyplot as plt\n",
    "from matplotlib import gridspec\n",
    "from ipywidgets import interact, interact_manual\n",
    "import ipywidgets as widgets"
   ]
  },
  {
   "cell_type": "markdown",
   "metadata": {},
   "source": [
    "## Oscillator and RA parameters\n",
    "Gain medium energy saturation"
   ]
  },
  {
   "cell_type": "code",
   "execution_count": 2,
   "metadata": {
    "collapsed": true
   },
   "outputs": [],
   "source": [
    "energy_saturation = 2.0e-3 # [J]"
   ]
  },
  {
   "cell_type": "markdown",
   "metadata": {},
   "source": [
    "Gain medium fluorescence lifetime"
   ]
  },
  {
   "cell_type": "code",
   "execution_count": 3,
   "metadata": {
    "collapsed": true
   },
   "outputs": [],
   "source": [
    "tau = 500e-9 # [s]"
   ]
  },
  {
   "cell_type": "markdown",
   "metadata": {},
   "source": [
    "Pulse wavelength"
   ]
  },
  {
   "cell_type": "code",
   "execution_count": 4,
   "metadata": {
    "collapsed": true
   },
   "outputs": [],
   "source": [
    "wl = 1064e-9 # [m]"
   ]
  },
  {
   "cell_type": "markdown",
   "metadata": {},
   "source": [
    "Gain"
   ]
  },
  {
   "cell_type": "code",
   "execution_count": 5,
   "metadata": {
    "collapsed": true
   },
   "outputs": [],
   "source": [
    "G0 = 2.0e0 # []"
   ]
  },
  {
   "cell_type": "markdown",
   "metadata": {},
   "source": [
    "Pulse energy"
   ]
  },
  {
   "cell_type": "code",
   "execution_count": 6,
   "metadata": {
    "collapsed": true
   },
   "outputs": [],
   "source": [
    "energy_0 = 75.0e-9 # [J]"
   ]
  },
  {
   "cell_type": "markdown",
   "metadata": {},
   "source": [
    "Cavity lengths of the regenerative amplifier and oscillator"
   ]
  },
  {
   "cell_type": "code",
   "execution_count": 7,
   "metadata": {
    "collapsed": true
   },
   "outputs": [],
   "source": [
    "T_RA = 15.8e-9 # [s]\n",
    "T_osc = 15.6e-9 # [s]"
   ]
  },
  {
   "cell_type": "markdown",
   "metadata": {},
   "source": [
    "Saturation power\n",
    "$$P = \\frac{E_{saturation}}{\\tau}\\times\\log G_0$$"
   ]
  },
  {
   "cell_type": "code",
   "execution_count": 8,
   "metadata": {
    "collapsed": true
   },
   "outputs": [],
   "source": [
    "P  = energy_saturation / tau * np.log(G0)"
   ]
  },
  {
   "cell_type": "markdown",
   "metadata": {},
   "source": [
    "## Control parameters\n",
    "Number of pulses per burst"
   ]
  },
  {
   "cell_type": "code",
   "execution_count": 9,
   "metadata": {
    "collapsed": true
   },
   "outputs": [],
   "source": [
    "N=10"
   ]
  },
  {
   "cell_type": "markdown",
   "metadata": {},
   "source": [
    "Injection, trapping and extraction periods"
   ]
  },
  {
   "cell_type": "code",
   "execution_count": 10,
   "metadata": {
    "collapsed": false
   },
   "outputs": [],
   "source": [
    "# injection period\n",
    "T1 = (N+0.5) * T_osc\n",
    "\n",
    "# trapping/amplification period\n",
    "T2 = 3.0 * T_RA\n",
    "\n",
    "# extraction period\n",
    "T3 = 20.0 * T_osc"
   ]
  },
  {
   "cell_type": "markdown",
   "metadata": {},
   "source": [
    "Losses at passive elements (mirrors, waveplates)"
   ]
  },
  {
   "cell_type": "code",
   "execution_count": 11,
   "metadata": {
    "collapsed": true
   },
   "outputs": [],
   "source": [
    "losses_passive = 0.05"
   ]
  },
  {
   "cell_type": "markdown",
   "metadata": {},
   "source": [
    "Output of the regenerative amplifier"
   ]
  },
  {
   "cell_type": "code",
   "execution_count": 26,
   "metadata": {
    "collapsed": false
   },
   "outputs": [],
   "source": [
    "def RA_output (losses_injection, losses_extraction, N, T2, T3):\n",
    "    T1 = (N+0.5)*T_osc\n",
    "    \n",
    "    pulses = int(np.floor((T1) / T_osc))\n",
    "\n",
    "    burst_pulses = range(pulses)\n",
    "\n",
    "    interactions = []\n",
    "\n",
    "    for i in range(pulses):\n",
    "        for time in np.arange(i*T_osc, T1+T2+T3, T_RA):\n",
    "            interactions = interactions + [(time, i)]\n",
    "\n",
    "    interactions = sorted(interactions, key = lambda time: time[0])\n",
    "\n",
    "    # first stage\n",
    "    energy = [energy_0 * losses_passive] * pulses\n",
    "    energy_stored0 = energy_saturation * np.log(G0)\n",
    "    time_previous = 0\n",
    "\n",
    "    RA = {}\n",
    "    RA['time'] = []\n",
    "    RA['energy_stored'] = []\n",
    "    RA['pulse_energy'] = []\n",
    "\n",
    "    out = {}\n",
    "    out['time'] = []\n",
    "    out['energy'] = []\n",
    "    \n",
    "    for i, (time, pulse) in list(enumerate(interactions)):\n",
    "        \n",
    "        T = time - time_previous\n",
    "\n",
    "        #energy, stored at gain medium decreases due to spontaneous emission, increases by pumping\n",
    "        energy_stored =  energy_stored0 * np.exp(-T/tau) + P * tau * (1.0 - np.exp (-T/tau))\n",
    "\n",
    "        #losses before amplifiers\n",
    "        energy[pulse] = energy[pulse] * (1.0 - losses_passive)\n",
    "\n",
    "        # first interval - losses at leaking PBS2\n",
    "        if time <= T1:\n",
    "            #losses  at the end of cavity\n",
    "            energy[pulse] = energy[pulse] * (1.0 - losses_injection(time))\n",
    "\n",
    "        for _ in range(2):\n",
    "            #pulse enters gain medium    \n",
    "            energy_in = energy[pulse]\n",
    "\n",
    "            #pulse exits gain medium\n",
    "            energy_out = energy_saturation * np.log (1.0 + (np.exp(energy_in/energy_saturation) - 1.0) * np.exp (energy_stored/energy_saturation))\n",
    "\n",
    "            #energy, stored at gain medium, decreases\n",
    "            energy_stored = energy_stored - (energy_out - energy_in)\n",
    "\n",
    "            #energy, stored at gain medium, for next interaction\n",
    "            energy_stored0 = energy_stored\n",
    "\n",
    "            energy[pulse] = energy_out\n",
    "\n",
    "\n",
    "        # third interval - losses at PBS2, output generation\n",
    "        if time > T1+T2:\n",
    "            out['time'].append(time)\n",
    "            out['energy'].append(energy[pulse] * losses_extraction (time-T1-T2))\n",
    "\n",
    "            #losses at leaking PBS2\n",
    "            energy[pulse] = energy[pulse] * (1.0 - losses_extraction (time-T1-T2))\n",
    "\n",
    "        time_previous = time\n",
    "\n",
    "        RA['time'].append(time)\n",
    "        RA['energy_stored'].append(energy_stored)\n",
    "        RA['pulse_energy'].append(energy[pulse])\n",
    "\n",
    "    return (RA, out)"
   ]
  },
  {
   "cell_type": "code",
   "execution_count": null,
   "metadata": {
    "collapsed": false
   },
   "outputs": [],
   "source": []
  },
  {
   "cell_type": "code",
   "execution_count": 41,
   "metadata": {
    "collapsed": false
   },
   "outputs": [],
   "source": [
    "def calculate_burst (_losses_injection, _losses_extraction, _N, _N_T2, _N_T3):\n",
    "    losses_injection = lambda x: 1-_losses_injection\n",
    "    losses_extraction = lambda x: 1-_losses_extraction\n",
    "    T1 = (_N+0.5)*T_osc\n",
    "    T2 = _N_T2 * T_RA\n",
    "    T3 = _N_T3 * T_osc\n",
    "        \n",
    "    RA, out = RA_output(losses_injection, losses_extraction, _N, T2, T3)\n",
    "    gs = gridspec.GridSpec (1, 2, wspace=0.5)\n",
    "\n",
    "    plt.figure('Burst generation', figsize=(15,6))\n",
    "    plt.clf()\n",
    "    plt.subplots_adjust(right=0.83)\n",
    "\n",
    "    ax1 = plt.subplot (gs[0,0])\n",
    "    ax12 = ax1.twinx()\n",
    "    ax13 = ax1.twinx()\n",
    "\n",
    "\n",
    "    p1, = ax1.plot(np.array(RA['time'])*1.0e9, np.array(RA['energy_stored'])*1.0e3, '.-', label='Gain energy')\n",
    "    p2, = ax12.plot(np.array([0, T1, T1, T1+T2, T1+T2, T1+T2+T3])*1.0e9, \n",
    "                    np.array([1-losses_injection(0)]+[1.0-losses_injection(T1)]+[1.0]*2+[1-losses_extraction(T2+T3)]*2), color='red', label='PC voltage (arbitrary)')\n",
    "    p3 = ax13.stem(np.array(out['time'])*1e9, np.array(out['energy'])*1e6, 'g', markerfmt='go')\n",
    "\n",
    "    ax1.set_xlim([0, (T1+T2+T3)*1.0e9])\n",
    "    #ax1.set_xticklabels([])\n",
    "    ax1.set_ylabel('Energy at gain, mJ')\n",
    "\n",
    "\n",
    "\n",
    "    ax12.set_ylabel('PC voltage, a.u.')\n",
    "    ax12.set_ylim([0, 1.2])\n",
    "    ax1.set_xlabel ('Time, ns')\n",
    "\n",
    "\n",
    "    ax13.set_ylabel('Output pulse energy, uJ')\n",
    "    #ax13.spines['left'].set_position(700)\n",
    "    ax13.spines['right'].set_position(('axes', 1.15))\n",
    "\n",
    "\n",
    "    ax1.set_title(\"Burst generation, N={:d} pulses\".format(N))\n",
    "\n",
    "\n",
    "    ax1.yaxis.label.set_color(p1.get_color())\n",
    "    ax12.yaxis.label.set_color(p2.get_color())\n",
    "    ax13.yaxis.label.set_color('green')\n",
    "\n",
    "\n",
    "    #ax13.yaxis.label.set_color(p3.get_color())\n",
    "\n",
    "    ax1.tick_params(axis='y', colors=p1.get_color())\n",
    "    ax12.tick_params(axis='y', colors=p2.get_color())\n",
    "    ax13.tick_params(axis='y', colors='green')\n",
    "\n",
    "    ax3 = plt.subplot (gs[0,1])\n",
    "    ax3.stem(np.array(out['time'])*1e9, np.array(out['energy'])*1e6, 'g', markerfmt='go')\n",
    "\n",
    "    ax3.set_title(\"Output\")\n",
    "    ax3.set_xlabel(\"Time, ns\")\n",
    "    ax3.set_ylabel('Output pulse energy, uJ')"
   ]
  },
  {
   "cell_type": "code",
   "execution_count": 42,
   "metadata": {
    "collapsed": false
   },
   "outputs": [
    {
     "data": {
      "image/png": "[encoded data removed]",
      "text/plain": [
       "<matplotlib.figure.Figure at 0x1479b7d7828>"
      ]
     },
     "metadata": {},
     "output_type": "display_data"
    }
   ],
   "source": [
    "%matplotlib inline\n",
    "interact(calculate_burst, \n",
    "         _losses_injection=widgets.FloatSlider(min=0.0, max=1.0, step=0.01, value=0.5, continuous_update=False, description=\"PC during injection\"),\n",
    "        _losses_extraction=widgets.FloatSlider(min=0.0, max=1.0, step=0.01, value=0.5, continuous_update=False, description=\"PC during extraction\"),\n",
    "        _N=widgets.IntSlider(min=1, max=10, step=1, value=1, continuous_update=False, description=\"Number of pulses in burst\"),\n",
    "        _N_T2=widgets.FloatSlider(min=0.0, max=20.0, step=0.5, value=3.0, continuous_update=False, description=\"Amplification round-trips in RA\"),\n",
    "        _N_T3=widgets.FloatSlider(min=1.0, max=20.0, step=0.5, value=20.0, continuous_update=False, description=\"Extraction time (in osc lengths)\")\n",
    "        )"
   ]
  },
  {
   "cell_type": "code",
   "execution_count": null,
   "metadata": {
    "collapsed": true
   },
   "outputs": [],
   "source": []
  },
  {
   "cell_type": "code",
   "execution_count": null,
   "metadata": {
    "collapsed": true
   },
   "outputs": [],
   "source": []
  }
 ],
 "metadata": {
  "kernelspec": {
   "display_name": "Python [default]",
   "language": "python",
   "name": "python3"
  },
  "language_info": {
   "codemirror_mode": {
    "name": "ipython",
    "version": 3
   },
   "file_extension": ".py",
   "mimetype": "text/x-python",
   "name": "python",
   "nbconvert_exporter": "python",
   "pygments_lexer": "ipython3",
   "version": "3.5.2"
  },
  "widgets": {
   "state": {
    "10b3cddf31eb46f1ab81068c00bd230a": {
     "views": [
      {
       "cell_index": 26
      }
     ]
    }
   },
   "version": "1.2.0"
  }
 },
 "nbformat": 4,
 "nbformat_minor": 1
}
